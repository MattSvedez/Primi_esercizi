{
 "cells": [
  {
   "cell_type": "markdown",
   "id": "d1aa315f-873b-490a-b8f3-67d9c6c44de0",
   "metadata": {},
   "source": [
    "# AGENDA SETTIMANALE\n",
    "\n",
    "### Mattia Amendola 01/05/2025"
   ]
  },
  {
   "cell_type": "code",
   "execution_count": 68,
   "id": "cee215b2-eb49-4d5c-9d9f-e64f06f34788",
   "metadata": {},
   "outputs": [
    {
     "name": "stdout",
     "output_type": "stream",
     "text": [
      "Il lunedi vado in Palestra\n",
      "Dopo il lunedì studio Inglese\n",
      "il martedì, mercoledì e venerdì Studio Inglese e Python\n",
      "Sabato e domenica preferisco il Riposo\n"
     ]
    }
   ],
   "source": [
    "L = \"Palestra\"\n",
    "MA = \"Inglese\"\n",
    "ME = \"Python\"\n",
    "G = \"Palestra\"\n",
    "V = \"Studio\"\n",
    "S_D = \"Riposo\" \n",
    "\n",
    "print(\"Il\", \"lunedi\", \"vado\", \"in\", L)\n",
    "print(\"Dopo\", \"il lunedì\", \"studio\", M)\n",
    "print(\"il martedì, mercoledì e venerdì\", V, MA, \"e\", ME)\n",
    "print(\"Sabato e domenica preferisco il\", S_D)"
   ]
  },
  {
   "cell_type": "code",
   "execution_count": 101,
   "id": "981c07c4-b8fa-47ee-a490-1af9b7c009d3",
   "metadata": {},
   "outputs": [
    {
     "name": "stdout",
     "output_type": "stream",
     "text": [
      "Riposo Sabato e Domenica\n",
      "Studiare python Venerdì anche Martedi Mercoledì\n"
     ]
    }
   ],
   "source": [
    "Palestra = \"Lunedi\"\n",
    "Inglese = \"Martedi\"\n",
    "Python = \"Mercoledì\"\n",
    "Palestra = \"Giovedi\"\n",
    "Studio = \"Venerdì\"\n",
    "Riposo = \"Sabato e Domenica\"\n",
    "\n",
    "print(str(\"Riposo\"), Riposo)\n",
    "print (Venerdì, str(\"Venerdì\"), \"anche\", Inglese, Python)"
   ]
  },
  {
   "cell_type": "markdown",
   "id": "eff21c0f-9caf-4638-b1a6-460c8586dba6",
   "metadata": {},
   "source": [
    "**NOTE: Inizio a prendere la mano, anche se gli esercizi sono semplici, provo stringhe e variabili per poter incastrare al meglio e capire sempre di più**"
   ]
  },
  {
   "cell_type": "code",
   "execution_count": null,
   "id": "da7cf3d4-a18e-4b89-8f91-4a1cb6a67aa5",
   "metadata": {},
   "outputs": [],
   "source": []
  }
 ],
 "metadata": {
  "kernelspec": {
   "display_name": "Python [conda env:base] *",
   "language": "python",
   "name": "conda-base-py"
  },
  "language_info": {
   "codemirror_mode": {
    "name": "ipython",
    "version": 3
   },
   "file_extension": ".py",
   "mimetype": "text/x-python",
   "name": "python",
   "nbconvert_exporter": "python",
   "pygments_lexer": "ipython3",
   "version": "3.12.7"
  }
 },
 "nbformat": 4,
 "nbformat_minor": 5
}
