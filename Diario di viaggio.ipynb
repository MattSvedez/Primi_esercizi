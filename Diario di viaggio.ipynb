{
 "cells": [
  {
   "cell_type": "markdown",
   "id": "33989524-424f-4a14-90a8-6f3ba9447980",
   "metadata": {},
   "source": [
    "# Diario di un viaggio\n",
    "## Autore: Mattia Amendola\n",
    "### Data: 09/05/2025"
   ]
  },
  {
   "cell_type": "markdown",
   "id": "fcb24000-a580-47e4-88f0-15ed2dc92f16",
   "metadata": {},
   "source": [
    "**In questo notebook, metterò in pratica i comandi input(), def, len()**"
   ]
  },
  {
   "cell_type": "code",
   "execution_count": 5,
   "id": "d6166206-dc80-48fe-a535-4e04d73e7b7b",
   "metadata": {},
   "outputs": [
    {
     "name": "stdin",
     "output_type": "stream",
     "text": [
      "Mattia \n"
     ]
    },
    {
     "name": "stdout",
     "output_type": "stream",
     "text": [
      "Il viaggiatore si chiama \n"
     ]
    }
   ],
   "source": [
    "viaggiatore = input(\"Mattia\")\n",
    "print(\"Il viaggiatore si chiama\", viaggiatore)"
   ]
  },
  {
   "cell_type": "code",
   "execution_count": 11,
   "id": "688cc64e-3770-43c1-8893-233c0d1e32d1",
   "metadata": {},
   "outputs": [
    {
     "name": "stdin",
     "output_type": "stream",
     "text": [
      "Campania \n"
     ]
    },
    {
     "name": "stdout",
     "output_type": "stream",
     "text": [
      "Si sta recando verso \n"
     ]
    }
   ],
   "source": [
    "destinazione = input(\"Campania\")\n",
    "print (\"Si sta recando verso\", destinazione)"
   ]
  },
  {
   "cell_type": "code",
   "execution_count": 13,
   "id": "090724b0-0260-408b-b774-585cbda2eec6",
   "metadata": {},
   "outputs": [
    {
     "name": "stdin",
     "output_type": "stream",
     "text": [
      "Vacanza \n"
     ]
    },
    {
     "name": "stdout",
     "output_type": "stream",
     "text": [
      "Si reca in Campania per \n"
     ]
    }
   ],
   "source": [
    "attività = input(\"Vacanza\")\n",
    "print(\"Si reca in Campania per\", attività)"
   ]
  },
  {
   "cell_type": "markdown",
   "id": "a060c3ee-3d5d-46ae-a831-a765f68f4368",
   "metadata": {},
   "source": [
    "*Note: I risultati ottenuti rappresentano il valore input, solo che i risultati vengono stampati non sulla stessa stringa ma in due diverse.*"
   ]
  },
  {
   "cell_type": "code",
   "execution_count": 95,
   "id": "ddce86e3-59ff-476e-9768-c658039c0e3f",
   "metadata": {},
   "outputs": [
    {
     "name": "stdout",
     "output_type": "stream",
     "text": [
      "<function diario_viaggio at 0x0000021368B78A40>\n"
     ]
    }
   ],
   "source": [
    "def diario_viaggio(Mattia):\n",
    "    a = Mattia\n",
    "    b = parte_verso\n",
    "    c = la_Campania\n",
    "    d = per_riposo\n",
    "    risultato = a + b + c + d\n",
    "    return risultato\n",
    "    \n",
    "print(diario_viaggio)"
   ]
  },
  {
   "cell_type": "code",
   "execution_count": 103,
   "id": "f59976fa-5fb2-4293-9ed9-87a8cd023288",
   "metadata": {},
   "outputs": [
    {
     "name": "stdout",
     "output_type": "stream",
     "text": [
      "35\n"
     ]
    }
   ],
   "source": [
    "a = \" Il viaggio di Mattia è molto lungo\"\n",
    "print(len(a))"
   ]
  },
  {
   "cell_type": "code",
   "execution_count": 123,
   "id": "f68a338b-8f65-4c55-96ff-6f578c36c441",
   "metadata": {},
   "outputs": [
    {
     "name": "stdout",
     "output_type": "stream",
     "text": [
      "50\n",
      "0\n"
     ]
    }
   ],
   "source": [
    "b = \"Mattia sta andando verso la Campania\"\n",
    "c = \"Per rilassarsi\"\n",
    "parola = \"Mattia\"\n",
    "posizone = parola.find(\"Mattia\")\n",
    "\n",
    "print(len(b+c))\n",
    "print(posizione)"
   ]
  },
  {
   "cell_type": "code",
   "execution_count": 129,
   "id": "fe01bf89-af1e-4f17-ae0b-5692daefd943",
   "metadata": {},
   "outputs": [
    {
     "name": "stdout",
     "output_type": "stream",
     "text": [
      "0\n"
     ]
    }
   ],
   "source": [
    "parola = \"trentatre trentini entrarono a trento\"\n",
    "posizione = parola.find(\"tre\")\n",
    "\n",
    "\n",
    "print(posizone)"
   ]
  },
  {
   "cell_type": "markdown",
   "id": "334bd31e-f9b0-4b64-9838-dbfb67fda3d0",
   "metadata": {},
   "source": [
    "**Note: Apprfondire la ricerca di più parole all'interno di una frase, migliorare il risultato di def, ho provato un solo esempio, perchè voglio ritornare ad approfondire il comando def**"
   ]
  }
 ],
 "metadata": {
  "kernelspec": {
   "display_name": "Python [conda env:base] *",
   "language": "python",
   "name": "conda-base-py"
  },
  "language_info": {
   "codemirror_mode": {
    "name": "ipython",
    "version": 3
   },
   "file_extension": ".py",
   "mimetype": "text/x-python",
   "name": "python",
   "nbconvert_exporter": "python",
   "pygments_lexer": "ipython3",
   "version": "3.12.7"
  }
 },
 "nbformat": 4,
 "nbformat_minor": 5
}
