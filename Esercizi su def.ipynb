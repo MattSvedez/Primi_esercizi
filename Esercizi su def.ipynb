{
 "cells": [
  {
   "cell_type": "markdown",
   "id": "aebab594-c11b-4ca2-9ac0-429ae0ab2eea",
   "metadata": {},
   "source": [
    "# ESERCIZIO SU DEF\n",
    "## AUTORE: Mattia Amendola\n",
    "### DATA: 18/05/2025\n",
    "\n",
    "**In questa serie di esercizi approfondirò la funzione def, in modo tale da poterla apprendere al meglio, gli esercizi precedenti erano un po' blandi, è tempo di migliorare le skills.**"
   ]
  },
  {
   "cell_type": "code",
   "execution_count": 36,
   "id": "59fd1bda-aafa-40ce-86e9-25dcad0a5119",
   "metadata": {},
   "outputs": [
    {
     "data": {
      "text/plain": [
       "20"
      ]
     },
     "execution_count": 36,
     "metadata": {},
     "output_type": "execute_result"
    }
   ],
   "source": [
    "def calcolo(a):    #Definiamo una funzione def, che restituisce un calcolo con un parametro a\n",
    "    b = a * 4      # B è quello che vogliamo ottenere, per fare questo useremo il parametro a\n",
    "    return b       # la funzione deve ridarci b\n",
    "    print(b)       # infine deve stampare il risultato di b\n",
    "\n",
    "calcolo(5)        #La funzione valida per questa cella di codice con la funzione di calcolo\n",
    "    "
   ]
  },
  {
   "cell_type": "code",
   "execution_count": 70,
   "id": "2f12734e-2ff2-4b52-b45b-110b3844d147",
   "metadata": {},
   "outputs": [
    {
     "data": {
      "text/plain": [
       "'Mattiaè in viaggio versoFirenzeToscana'"
      ]
     },
     "execution_count": 70,
     "metadata": {},
     "output_type": "execute_result"
    }
   ],
   "source": [
    "def attività (N,C,L):    # Definiamo una funzione che ci dia una frase    \n",
    "    v_1 = N\n",
    "    v_2 = \"è in viaggio verso\"    # impostiamo dei parametri per realizzare la frase\n",
    "    v_3 = C + L\n",
    "    v_d = v_1 + v_2 + v_3 \n",
    "    return v_d\n",
    "    print(v_d)    #la funzione deve ridarci la frase da noi desiderata\n",
    "\n",
    "attività(\"Mattia\", \"Firenze\", \"Toscana\")  #Devo capire perchè non ci sono gli spazi"
   ]
  },
  {
   "cell_type": "code",
   "execution_count": 82,
   "id": "fb12ea4b-95c4-4a3c-84c2-6484fc14429b",
   "metadata": {},
   "outputs": [
    {
     "name": "stdout",
     "output_type": "stream",
     "text": [
      "5\n",
      "6\n",
      "11\n"
     ]
    }
   ],
   "source": [
    "def bambini (a,b):   # Vogliamo sapere quanti bambini ci sono in una classe\n",
    "    maschi = a    \n",
    "    femmine = b\n",
    "    totale = a + b\n",
    "    print (maschi)\n",
    "    print (femmine)\n",
    "    print (totale)\n",
    "\n",
    "bambini (5,6)    #Ci elencherà i bambini maschi, femmmine ed il totale in una classe"
   ]
  },
  {
   "cell_type": "markdown",
   "id": "bb1b58ee-fdb5-43f5-beec-ae6a845ba215",
   "metadata": {},
   "source": [
    "**Note: Finalmente, sono riuscito ad ottenere dei risultati con questa funzione, adesso posso proseguire con gli studi e imparare altre funzioni.**"
   ]
  }
 ],
 "metadata": {
  "kernelspec": {
   "display_name": "Python [conda env:base] *",
   "language": "python",
   "name": "conda-base-py"
  },
  "language_info": {
   "codemirror_mode": {
    "name": "ipython",
    "version": 3
   },
   "file_extension": ".py",
   "mimetype": "text/x-python",
   "name": "python",
   "nbconvert_exporter": "python",
   "pygments_lexer": "ipython3",
   "version": "3.12.7"
  }
 },
 "nbformat": 4,
 "nbformat_minor": 5
}
