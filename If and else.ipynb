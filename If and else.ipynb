{
 "cells": [
  {
   "cell_type": "markdown",
   "id": "fa466e75-2b7b-41df-959c-9b213b32e4ca",
   "metadata": {},
   "source": [
    "# ESERCIZI SU IF ED ELSE\n",
    "## AUTORE: Mattia Amendola\n",
    "## DATA: 20/05/2025"
   ]
  },
  {
   "cell_type": "markdown",
   "id": "7d6e2871-5f4e-4263-9f4a-ed1f19220cc0",
   "metadata": {},
   "source": [
    "**ESERCIZIO NUMERO UNO** \\\n",
    "Scrivere un programma che chiede all'utente di inserire un numero e stampa \"Il numero è positivo\" se il numero è maggiore di zero, altrimenti stampa \"Il numero è negativo\"."
   ]
  },
  {
   "cell_type": "code",
   "execution_count": 20,
   "id": "890cdd0b-9467-474e-a5a6-cb2ba4ad91e6",
   "metadata": {},
   "outputs": [
    {
     "name": "stdin",
     "output_type": "stream",
     "text": [
      "Inserisci un numero:  5\n"
     ]
    },
    {
     "name": "stdout",
     "output_type": "stream",
     "text": [
      "Il numero è positivo\n"
     ]
    }
   ],
   "source": [
    "numero = int(input(\"Inserisci un numero: \"))\n",
    "if numero > 0:\n",
    "    print(\"Il numero è positivo\")\n",
    "else:\n",
    "    print(\"Il numero è negativo\")\n",
    "    "
   ]
  },
  {
   "cell_type": "markdown",
   "id": "f58225d6-4281-41b8-a350-7244ab45a908",
   "metadata": {},
   "source": [
    "**ESERCIZIO NUMERO DUE**\\\n",
    "Scrivere un programma che chiede all'utente di inserire due numeri e stampa \"Il primo numero è maggiore\" se il primo numero è maggiore del secondo, \"Il secondo numero è maggiore\" se il secondo numero è maggiore del primo, altrimenti stampa \"I numeri sono uguali\"."
   ]
  },
  {
   "cell_type": "code",
   "execution_count": 29,
   "id": "4ce66c56-8963-4610-b094-913dc5a5e67c",
   "metadata": {},
   "outputs": [
    {
     "name": "stdin",
     "output_type": "stream",
     "text": [
      "Inserisci il primo numero:  5\n",
      "Inserisci il secondo numero:  12\n"
     ]
    },
    {
     "name": "stdout",
     "output_type": "stream",
     "text": [
      "Il secondo numero è maggiore\n"
     ]
    }
   ],
   "source": [
    "numero_1 = int(input(\"Inserisci il primo numero: \"))\n",
    "numero_2 = int(input(\"Inserisci il secondo numero: \"))\n",
    "if numero_1 > numero_2:\n",
    "    print(\"Il primo numero è maggiore\")\n",
    "if numero_1 < numero_2:\n",
    "    print(\"Il secondo numero è maggiore\")\n",
    "if numero_1 == numero_2:\n",
    "    print(\"I due numeri sono uguali\")\n"
   ]
  },
  {
   "cell_type": "markdown",
   "id": "09233217-df3b-4827-ad62-8e97886b6026",
   "metadata": {},
   "source": [
    "**ESERCIZIO NUMERO TRE**\\\n",
    "Scrivere un programma che chiede all'utente di inserire una stringa e stampa \"La stringa è vuota\" se la stringa è vuota, altrimenti stampa \"La stringa non è vuota\""
   ]
  },
  {
   "cell_type": "code",
   "execution_count": 58,
   "id": "36847952-19a8-44fb-8276-c7ff78e61962",
   "metadata": {},
   "outputs": [
    {
     "name": "stdin",
     "output_type": "stream",
     "text": [
      "Inserisci una stringa:  \n"
     ]
    },
    {
     "name": "stdout",
     "output_type": "stream",
     "text": [
      "La stringa è vuota\n"
     ]
    }
   ],
   "source": [
    "stringa = input(\"Inserisci una stringa: \")\n",
    "if not stringa:\n",
    "    print(\"La stringa è vuota\")\n",
    "else:\n",
    "    print(\"La stringa non è vuota\")"
   ]
  },
  {
   "cell_type": "markdown",
   "id": "259c0611-2099-430c-855c-1a02e8002b6b",
   "metadata": {},
   "source": [
    "**ESERCIZIO NUMERO QUATTRO**\\\n",
    "Scrivere un programma che chiede all'utente di inserire un numero e stampa \"Il numero è pari\" se il numero è pari, altrimenti stampa \"Il numero è dispari\"."
   ]
  },
  {
   "cell_type": "code",
   "execution_count": 70,
   "id": "2b5b5b9e-5560-47a2-8134-aec6bd9ad10b",
   "metadata": {},
   "outputs": [
    {
     "name": "stdin",
     "output_type": "stream",
     "text": [
      "Scegli un numero:  5\n"
     ]
    },
    {
     "name": "stdout",
     "output_type": "stream",
     "text": [
      "Il numero è dispari\n"
     ]
    }
   ],
   "source": [
    "numero = int(input(\"Scegli un numero: \"))\n",
    "if numero % 2 == 0:\n",
    "    print(\"Il numero è pari\")\n",
    "else:\n",
    "    print(\"Il numero è dispari\")"
   ]
  }
 ],
 "metadata": {
  "kernelspec": {
   "display_name": "Python [conda env:base] *",
   "language": "python",
   "name": "conda-base-py"
  },
  "language_info": {
   "codemirror_mode": {
    "name": "ipython",
    "version": 3
   },
   "file_extension": ".py",
   "mimetype": "text/x-python",
   "name": "python",
   "nbconvert_exporter": "python",
   "pygments_lexer": "ipython3",
   "version": "3.12.7"
  }
 },
 "nbformat": 4,
 "nbformat_minor": 5
}
