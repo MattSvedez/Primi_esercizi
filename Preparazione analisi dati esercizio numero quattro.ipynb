{
 "cells": [
  {
   "cell_type": "markdown",
   "id": "051c4940-ca6e-4422-9ea0-13ffb97df16d",
   "metadata": {},
   "source": [
    "# Pianificazione analisi dati\n",
    "\n",
    "## Autore: Mattia Amendola Data: 04/05/2025\n",
    "\n",
    "### Questo notebook simula la pianificazione di un progetto di analisi dati, generando messaggi e obiettivi con stringhe e print. Include una struttura organizzata e riflessioni dettagliate\n",
    "\n"
   ]
  },
  {
   "cell_type": "code",
   "execution_count": 20,
   "id": "431b349b-0a2d-4892-b35f-fb1162f1fb9c",
   "metadata": {},
   "outputs": [
    {
     "name": "stdout",
     "output_type": "stream",
     "text": [
      "Analisi dati il coordinatore è Mattia dovrà Garantire il ROI\n",
      "Garantire il ROI tramite l'utilizzo di Python per Pulire i dati\n",
      "Python sarà utilizzato per Garantire il ROI\n"
     ]
    }
   ],
   "source": [
    "np = \"Analisi dati\"\n",
    "rp = \"Mattia\"\n",
    "op = \"Garantire il ROI\"\n",
    "sp = \"Python\"\n",
    "As = \"Pulire i dati\" \n",
    "\n",
    "print(np, \"il coordinatore è\", rp, \"dovrà\" , op)\n",
    "print(op, \"tramite l'utilizzo di\", sp, \"per\", As)\n",
    "print( sp, \"sarà utilizzato per\", op)"
   ]
  },
  {
   "cell_type": "markdown",
   "id": "e6440c63-4170-4c48-98e8-20ad04b13ce2",
   "metadata": {},
   "source": [
    "**Note: Utilizzo di più risultati con le stesse variabili, continuo ad approfondire, print con più variabili, credo che ci siamo e che sia l'ultimo esercizio base per questo tipo di studio, ora continuo a studiare altri comandi, vediamo come andrà**"
   ]
  }
 ],
 "metadata": {
  "kernelspec": {
   "display_name": "Python [conda env:base] *",
   "language": "python",
   "name": "conda-base-py"
  },
  "language_info": {
   "codemirror_mode": {
    "name": "ipython",
    "version": 3
   },
   "file_extension": ".py",
   "mimetype": "text/x-python",
   "name": "python",
   "nbconvert_exporter": "python",
   "pygments_lexer": "ipython3",
   "version": "3.12.7"
  }
 },
 "nbformat": 4,
 "nbformat_minor": 5
}
