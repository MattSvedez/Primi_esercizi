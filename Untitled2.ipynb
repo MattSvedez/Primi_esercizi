{
 "cells": [
  {
   "cell_type": "markdown",
   "id": "b74dfcbe-dd21-484c-b26c-6d5c77639abb",
   "metadata": {},
   "source": [
    "# DIARIO DI VIAGGIO\n",
    "## AUTORE: Mattia Amendola\n",
    "### DATA: 14/05/2025"
   ]
  },
  {
   "cell_type": "markdown",
   "id": "14bc46ca-565b-417c-a46f-7430c7cf9a22",
   "metadata": {},
   "source": [
    "**Lo scopo di questo notebook è quello di  registrare un ricordo di viaggio usando input(), len(), find(), e una funzione definita con def, soprattutto voglio risolvere gli errori commessi nel notebook precedente.**\n",
    "\n"
   ]
  },
  {
   "cell_type": "code",
   "execution_count": 67,
   "id": "faaffcf3-f89d-424e-a2c2-989050b9aaef",
   "metadata": {},
   "outputs": [
    {
     "name": "stdin",
     "output_type": "stream",
     "text": [
      "Mattia \n",
      "Firenze \n",
      "Divertimento e buon cibo \n"
     ]
    },
    {
     "name": "stdout",
     "output_type": "stream",
     "text": [
      "7\n",
      "6\n",
      "24\n"
     ]
    }
   ],
   "source": [
    "Nome = input(\"Mattia\")                                       #Utilizzo di input\n",
    "Luogo = input(\"Firenze\")                                     #Utilizzo di input\n",
    "Ricordo = input(\"Divertimento e buon cibo\")                  #Utilizzo di input\n",
    "\n",
    "def diario_viaggio (Nome, Luogo, Ricordo):                   #Utilizzo di def\n",
    "    return (Nome, Luogo, Ricordo)\n",
    "\n",
    "print(len(\"Firenze\"))                                        #Utilizzo di len\n",
    "print(len(\"Mattia\"))\n",
    "print(len(\"Divertimento e buon cibo\"))"
   ]
  }
 ],
 "metadata": {
  "kernelspec": {
   "display_name": "Python [conda env:base] *",
   "language": "python",
   "name": "conda-base-py"
  },
  "language_info": {
   "codemirror_mode": {
    "name": "ipython",
    "version": 3
   },
   "file_extension": ".py",
   "mimetype": "text/x-python",
   "name": "python",
   "nbconvert_exporter": "python",
   "pygments_lexer": "ipython3",
   "version": "3.12.7"
  }
 },
 "nbformat": 4,
 "nbformat_minor": 5
}
