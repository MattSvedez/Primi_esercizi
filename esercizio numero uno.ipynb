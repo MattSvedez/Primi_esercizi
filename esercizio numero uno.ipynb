{
 "cells": [
  {
   "cell_type": "markdown",
   "id": "44248bdd-fe9e-43f0-a22e-d3e567417692",
   "metadata": {},
   "source": [
    "# Esercizo 1: saluti personalizzati\n",
    "\n",
    "## **Mattia Amendola 01/05/2025**\n",
    "**Questo notebook serve ad imparare il comando print e la variabile str**"
   ]
  },
  {
   "cell_type": "code",
   "execution_count": 49,
   "id": "30827229-408a-4a5f-8163-142cc358f8bb",
   "metadata": {},
   "outputs": [
    {
     "name": "stdout",
     "output_type": "stream",
     "text": [
      "SimoneTanti saluti dall'Italia!qui stiamo studiando\n",
      "SimoneTanti saluti dall'Italia!qui stiamo studiando\n"
     ]
    }
   ],
   "source": [
    "nome=\"Simone\"\n",
    "saluti=\"Tanti saluti dall'Italia!\"\n",
    "messaggio=\"qui stiamo studiando\"\n",
    "print(str(nome + saluti +messaggio))\n",
    "\n",
    "testo_finale=nome+saluti+messaggio\n",
    "\n",
    "print(str(testo_finale))\n"
   ]
  },
  {
   "cell_type": "markdown",
   "id": "260eebe2-1b95-452d-b4da-2ac4dc8fc079",
   "metadata": {},
   "source": [
    "##### *Note: Imparare i comandi e migliorare le skills per quanto riguarda gli spazi tra una parola e l'altra."
   ]
  }
 ],
 "metadata": {
  "kernelspec": {
   "display_name": "Python [conda env:base] *",
   "language": "python",
   "name": "conda-base-py"
  },
  "language_info": {
   "codemirror_mode": {
    "name": "ipython",
    "version": 3
   },
   "file_extension": ".py",
   "mimetype": "text/x-python",
   "name": "python",
   "nbconvert_exporter": "python",
   "pygments_lexer": "ipython3",
   "version": "3.12.7"
  }
 },
 "nbformat": 4,
 "nbformat_minor": 5
}
