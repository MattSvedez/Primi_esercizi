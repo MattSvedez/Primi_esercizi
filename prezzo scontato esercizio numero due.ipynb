{
 "cells": [
  {
   "cell_type": "markdown",
   "id": "7fd732a7-e699-43d5-b9c1-798ed6e07d25",
   "metadata": {},
   "source": [
    "# ESERCIZIO DUE: CALCOLO DEL PREZZO FINALE\n",
    "### Mattia Amendola 01/05/2025 \n",
    "\n",
    "#### Questo notebook calcola il prezzo di un prodotto dopo uno sconto"
   ]
  },
  {
   "cell_type": "code",
   "execution_count": 30,
   "id": "4892e82a-d728-4a7f-ac42-fc09a1055079",
   "metadata": {},
   "outputs": [
    {
     "name": "stdout",
     "output_type": "stream",
     "text": [
      "Lo zaino costa 80\n"
     ]
    }
   ],
   "source": [
    "np = \"Lo zaino\"\n",
    "pi = \"80\"\n",
    "ps = \"25\"\n",
    "\n",
    "print(np, \"costa\", pi)"
   ]
  },
  {
   "cell_type": "code",
   "execution_count": 28,
   "id": "67692848-6435-4725-a6cb-dbb13b04ab86",
   "metadata": {},
   "outputs": [
    {
     "name": "stdout",
     "output_type": "stream",
     "text": [
      "Lo zaino ha uno sconto del 20%\n"
     ]
    }
   ],
   "source": [
    "np= \"Lo zaino\"\n",
    "s= \"20%\"\n",
    "\n",
    "print(np, \"ha uno sconto\", \"del\", s)"
   ]
  },
  {
   "cell_type": "markdown",
   "id": "8cc61b57-bd11-43b9-8cb3-5ebc68ff6e48",
   "metadata": {},
   "source": [
    "**Quanto costa lo zaino?**"
   ]
  },
  {
   "cell_type": "markdown",
   "id": "1f1c849a-680d-440a-a173-c2761df9880a",
   "metadata": {},
   "source": [
    "***Note importanti: non ho ancora imparato le funzioni matematiche su python,\\ tornero ad aggiornare questo notebook, molto importante, ho imparato ad utilizzare gli spazi***"
   ]
  }
 ],
 "metadata": {
  "kernelspec": {
   "display_name": "Python [conda env:base] *",
   "language": "python",
   "name": "conda-base-py"
  },
  "language_info": {
   "codemirror_mode": {
    "name": "ipython",
    "version": 3
   },
   "file_extension": ".py",
   "mimetype": "text/x-python",
   "name": "python",
   "nbconvert_exporter": "python",
   "pygments_lexer": "ipython3",
   "version": "3.12.7"
  }
 },
 "nbformat": 4,
 "nbformat_minor": 5
}
